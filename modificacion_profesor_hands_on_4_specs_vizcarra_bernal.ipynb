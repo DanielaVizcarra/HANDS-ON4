{
  "nbformat": 4,
  "nbformat_minor": 0,
  "metadata": {
    "colab": {
      "provenance": [],
      "name": "modificacion-profesor-hands-on-4-specs-vizcarra-bernal.ipynb",
      "authorship_tag": "ABX9TyP1iXyUM+oI3eb/YcYffmc+",
      "include_colab_link": true
    },
    "kernelspec": {
      "name": "python3",
      "display_name": "Python 3"
    },
    "language_info": {
      "name": "python"
    }
  },
  "cells": [
    {
      "cell_type": "markdown",
      "metadata": {
        "id": "view-in-github",
        "colab_type": "text"
      },
      "source": [
        "<a href=\"https://colab.research.google.com/github/DanielaVizcarra/HANDS-ON4/blob/main/modificacion_profesor_hands_on_4_specs_vizcarra_bernal.ipynb\" target=\"_parent\"><img src=\"https://colab.research.google.com/assets/colab-badge.svg\" alt=\"Open In Colab\"/></a>"
      ]
    },
    {
      "cell_type": "markdown",
      "source": [
        "indicaciones:\n",
        "\n",
        "*entradas\n",
        "\n",
        "1- el dataset debe  estar predefinido **(harcoded)**\n",
        "\n",
        "*salidas\n",
        "\n",
        "1- imprimir la ecuacion de regresion **ŷ = β0 + β1 x1** reemplazando los valores optimos, calculados para los parametros del modelo **(Betas)**\n",
        "\n",
        "2- A partir de un valor X predefinido en el codigo calcular e imprimir el valor de Y predecido.\n"
      ],
      "metadata": {
        "id": "JkO40W3dZ2TV"
      }
    },
    {
      "cell_type": "markdown",
      "source": [
        "PRIMERO VAMOS A CREAR NUESTRAS CLASE **DATASET**, EN LA CUAL VAMOS A DEFINIR CADA VALOR DEL DATASET A USAR.\n",
        "\n",
        "para el constructor usé **def __init__(self)** si se descompone cada parte tenemos el \"def\" para definir el metodo; el \"init\" es un metodo especial para definir las propiedades y argumentos por defecto que tendrá el objeto creado,básicamente como se init-cializarán los objetos; finalmente \"self\" que es lo que nos permite asignar una referencia al objeto de la clase.\n"
      ],
      "metadata": {
        "id": "bedcFSIJbaMr"
      }
    },
    {
      "cell_type": "code",
      "execution_count": null,
      "metadata": {
        "id": "jPuWntquYX6S"
      },
      "outputs": [],
      "source": [
        "class Dataset:\n",
        "    def __init__(self): # constructor\n",
        "        self.X = [\n",
        "           1,2,3,4,5,6,7,8,9\n",
        "        ]\n",
        "        self.Y = [\n",
        "            2,4,6,8,10,12,14,16,18]\n",
        "\n",
        "\n",
        "    def getX(self):\n",
        "        return self.X\n",
        "\n",
        "    def getY(self):\n",
        "        return self.Y\n"
      ]
    },
    {
      "cell_type": "markdown",
      "source": [
        "Creamos la clase SLR (SIMPLE LINEAL REGRESSION) donde vamos a definir el método matemático a seguir para calcular los valores de las **betas** .\n",
        "desde la cantidad de datos contenidos en el dataset y el valor que se le asignará a N, hasta la obtencion de resultado de las sumatorias generados a partir de los calculos para obtener un resultado final, que nos de el valor de B_0 Y B_1"
      ],
      "metadata": {
        "id": "ABpiCaPlykyH"
      }
    },
    {
      "cell_type": "code",
      "source": [
        "class SLR:\n",
        "  #asignación de los valores del data set que corresponden a  R&D SPEND (X) Y PROFIT (Y).\n",
        "      def __init__(self,X,Y):  #constructor\n",
        "        self.X = X # toma el valor X del dataset y lo almacena en self.X\n",
        "        self.Y = Y\n",
        "        self.B_0 = None #inicializan los atributos sin valor, los cuales usaremos para almacenar el resultado de cada una de las betas pero como no lo tenemos por ahora nos reservamos ese valor.\n",
        "        self.B_1 = None\n",
        "\n",
        "      def toComputeB_0(self):\n",
        "        n = len(self.X) #calculamos el número de elementos de X para asignarle ese valor a N\n",
        "        sum_x = sum(self.X) #sumamos todos los elementos contenidos en X\n",
        "        sum_y = sum(self.Y)\n",
        "        sum_xy = sum(xi * yi for xi, yi in zip(self.X, self.Y)) # se multiplican los datos de X*Y (el conjunto de pares ordenados) y  luego se suman todos los resultados\n",
        "        sum_xsqua = sum(xi ** 2 for xi in self.X)#se eleva al cuadrado cada elemento contenido en X y luego se suman todos los resultados y se le asigana el valor.\n",
        "\n",
        "\n",
        "\n",
        "        self.B_1 = ((n * sum_xy) - (sum_x * sum_y)) / ((n * sum_xsqua) - ((sum_x) ** 2))#aplicamos las formulas vistas en clase para B_1 con los resultados obtenidos de las sumatorias\n",
        "        self.B_0 = (sum_y - (self.B_1 * sum_x)) / n  #aplicamos las formulas vistas en clase para B_0 con los resultados obtenidos de las sumatorias y el valor de B_1\n",
        "        return self.B_0\n",
        "\n",
        "      def toComputeB_1(self):\n",
        "        n = len(self.X)\n",
        "        sum_x = sum(self.X)\n",
        "        sum_y = sum(self.Y)\n",
        "        sum_xy = sum(xi * yi for xi, yi in zip(self.X, self.Y))\n",
        "        sum_xsqua = sum(xi ** 2 for xi in self.X)\n",
        "\n",
        "        self.B_1 = ((n * sum_xy) - (sum_x * sum_y)) / ((n * sum_xsqua) - (sum_x ** 2))#aplicamos las formulas vistas en clase para B_1 con los resultados obtenidos de las sumatorias\n",
        "        return self.B_1\n",
        "\n",
        "\n",
        "      def RegressionEquation(self):\n",
        "        #validamos que B_0 Y B_1 tengan un valor asignado\n",
        "        if self.B_0 is not None and self.B_1 is not None:\n",
        "          print(f\"La ecuación de regresión es: Y = {self.B_0:.2f} + {self.B_1:.2f} * X\") # se crea la cadena de texto con los datos de B_0 Y B_1 con la cantidad de decimales que debe mostrar print(f\"B_0: {regresion.B_0:.2f}\")\n",
        "        else:\n",
        "         print(\"no hay valores\")"
      ],
      "metadata": {
        "id": "mpXtljjR1p1z"
      },
      "execution_count": null,
      "outputs": []
    },
    {
      "cell_type": "markdown",
      "source": [
        "creamos la instancia data_set para poder acceder a los datos de la clase contenidos en las variables X y Y"
      ],
      "metadata": {
        "id": "Fe_lJQROYZve"
      }
    },
    {
      "cell_type": "code",
      "source": [
        "data_set = Dataset()\n",
        "X = data_set.getX() #obtienelos los datos de las variables que se encuentran instanciados en la clase Dataset\n",
        "Y = data_set.getY()"
      ],
      "metadata": {
        "id": "AG4Z1j9qKw5g"
      },
      "execution_count": null,
      "outputs": []
    },
    {
      "cell_type": "markdown",
      "source": [
        " vamos a crear la instancia regresion de para obtener los valores de X y Y que contiene SLR, llama a los metodos donde se calcularon las betas y regresa su valor el cual podemos ver con el print\n"
      ],
      "metadata": {
        "id": "mKnqP_QoTprO"
      }
    },
    {
      "cell_type": "code",
      "source": [
        "regresion = SLR(X, Y)\n",
        "B_0 = regresion.toComputeB_0() #obtenemos el valor de la beta y lo almacenamos aqui\n",
        "B_1 = regresion.toComputeB_1()#guardamos el valor de la beta calculado anteriormente\n",
        "print(f\"B_0: {regresion.B_0:.2f}\")\n",
        "print(f\"B_1: {B_1:.2f}\")"
      ],
      "metadata": {
        "colab": {
          "base_uri": "https://localhost:8080/"
        },
        "id": "lQSRVbpaZkVU",
        "outputId": "3775ce3b-0b70-4c7d-ce1a-3fbe23602593"
      },
      "execution_count": null,
      "outputs": [
        {
          "output_type": "stream",
          "name": "stdout",
          "text": [
            "B_0: 0.00\n",
            "B_1: 2.00\n"
          ]
        }
      ]
    },
    {
      "cell_type": "markdown",
      "source": [
        "por ultimo vamos a imprimir la ecuación de regresión lineal"
      ],
      "metadata": {
        "id": "OAv8H0dgbM94"
      }
    },
    {
      "cell_type": "code",
      "source": [
        "regresion. RegressionEquation()"
      ],
      "metadata": {
        "colab": {
          "base_uri": "https://localhost:8080/"
        },
        "id": "9XoBYw-hbTNV",
        "outputId": "59641f6f-ecaa-448e-d164-3521db45d190"
      },
      "execution_count": null,
      "outputs": [
        {
          "output_type": "stream",
          "name": "stdout",
          "text": [
            "La ecuación de regresión es: Y = 0.00 + 2.00 * X\n"
          ]
        }
      ]
    },
    {
      "cell_type": "markdown",
      "source": [
        "vamos a darle nuevos valores  a **X** y **Y**"
      ],
      "metadata": {
        "id": "AUeqTMB7fcMD"
      }
    },
    {
      "cell_type": "code",
      "source": [
        "newrd = [\n",
        "    11,13,15,17,19,21,23,25,27,29]\n"
      ],
      "metadata": {
        "id": "-FgW40OwM5pE"
      },
      "execution_count": null,
      "outputs": []
    },
    {
      "cell_type": "markdown",
      "source": [
        "creamos la formula para predecir el profit de estos datos\n",
        "**profit= B_0 + B_1 * R&D SPEND**"
      ],
      "metadata": {
        "id": "cAwSx5yYb3HL"
      }
    },
    {
      "cell_type": "code",
      "source": [
        "profit = [B_0 + B_1 * rd for rd in newrd]\n",
        "\n",
        "for rd, nprofit in zip(newrd,profit):\n",
        "    print(f\"R&D: {rd:.2f},  Profit: {nprofit:.2f}\")"
      ],
      "metadata": {
        "colab": {
          "base_uri": "https://localhost:8080/"
        },
        "id": "iGgQ6S5ecLz7",
        "outputId": "ca7f04a5-d9e0-45bd-b6bf-6bfffe6ceb47"
      },
      "execution_count": null,
      "outputs": [
        {
          "output_type": "stream",
          "name": "stdout",
          "text": [
            "R&D: 11.00,  Profit: 22.00\n",
            "R&D: 13.00,  Profit: 26.00\n",
            "R&D: 15.00,  Profit: 30.00\n",
            "R&D: 17.00,  Profit: 34.00\n",
            "R&D: 19.00,  Profit: 38.00\n",
            "R&D: 21.00,  Profit: 42.00\n",
            "R&D: 23.00,  Profit: 46.00\n",
            "R&D: 25.00,  Profit: 50.00\n",
            "R&D: 27.00,  Profit: 54.00\n",
            "R&D: 29.00,  Profit: 58.00\n"
          ]
        }
      ]
    }
  ]
}