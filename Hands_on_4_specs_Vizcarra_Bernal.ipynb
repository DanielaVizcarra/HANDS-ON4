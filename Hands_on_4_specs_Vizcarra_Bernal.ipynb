{
  "nbformat": 4,
  "nbformat_minor": 0,
  "metadata": {
    "colab": {
      "provenance": [],
      "authorship_tag": "ABX9TyN38T2umolc1NdV5HOGQrV3",
      "include_colab_link": true
    },
    "kernelspec": {
      "name": "python3",
      "display_name": "Python 3"
    },
    "language_info": {
      "name": "python"
    }
  },
  "cells": [
    {
      "cell_type": "markdown",
      "metadata": {
        "id": "view-in-github",
        "colab_type": "text"
      },
      "source": [
        "<a href=\"https://colab.research.google.com/github/DanielaVizcarra/HANDS-ON4/blob/main/Hands_on_4_specs_Vizcarra_Bernal.ipynb\" target=\"_parent\"><img src=\"https://colab.research.google.com/assets/colab-badge.svg\" alt=\"Open In Colab\"/></a>"
      ]
    },
    {
      "cell_type": "markdown",
      "source": [
        "indicaciones:\n",
        "\n",
        "*entradas\n",
        "\n",
        "1- el dataset debe  estar predefinido **(harcoded)**\n",
        "\n",
        "*salidas\n",
        "\n",
        "1- imprimir la ecuacion de regresion **ŷ = β0 + β1 x1** reemplazando los valores optimos, calculados para los parametros del modelo **(Betas)**\n",
        "\n",
        "2- A partir de un valor X predefinido en el codigo calcular e imprimir el valor de Y predecido.\n"
      ],
      "metadata": {
        "id": "JkO40W3dZ2TV"
      }
    },
    {
      "cell_type": "markdown",
      "source": [
        "PRIMERO VAMOS A CREAR NUESTRAS CLASE **DATASET**, EN LA CUAL VAMOS A DEFINIR CADA VALOR DEL DATASET A USAR. (EN ESTE CASO USÉ DE REFERENCIA LOS DATOS DE R&D SPEND **(X)** Y PROFIT **(Y)**, LOS CUALES SE VIERON EN LA TAREA PASADA).\n",
        "\n",
        "para el constructor usé **def __init__(self)** si se descompone cada parte tenemos el \"def\" para definir el metodo; el \"init\" es un metodo especial para definir las propiedades y argumentos por defecto que tendrá el objeto creado,básicamente como se init-cializarán los objetos; finalmente \"self\" que es lo que nos permite asignar una referencia al objeto de la clase.\n"
      ],
      "metadata": {
        "id": "bedcFSIJbaMr"
      }
    },
    {
      "cell_type": "code",
      "execution_count": null,
      "metadata": {
        "id": "jPuWntquYX6S"
      },
      "outputs": [],
      "source": [
        "class Dataset:\n",
        "    def __init__(self): # constructor\n",
        "        self.X = [\n",
        "            165349.20, 162597.70, 153441.51, 144372.41, 142107.34,\n",
        "            131876.90, 134615.46, 130298.13, 120542.52, 123334.88,\n",
        "            101913.08, 100671.96, 93863.75, 91992.39, 119943.24,\n",
        "            114523.61, 78013.11, 94657.16, 91749.16, 86419.70,\n",
        "            76253.86, 78389.47, 73994.56, 67532.53, 77044.01,\n",
        "            64664.71, 75328.87, 72107.60, 66051.52, 65605.48,\n",
        "            61994.48, 61136.38, 63408.86, 55493.95, 46426.07,\n",
        "            46014.02, 28663.76, 44069.95, 20229.59, 38558.51,\n",
        "            28754.33, 27892.92, 23640.93, 15505.73, 22177.74,\n",
        "            1000.23, 1315.46, 0.00, 542.05, 0.00\n",
        "        ]\n",
        "        self.Y = [\n",
        "            192261.83, 191792.06, 191050.39, 182901.99, 166187.94,\n",
        "            156991.12, 156122.51, 155752.60, 152211.77, 149759.96,\n",
        "            146121.95, 144259.40, 141585.52, 134307.35, 132602.65,\n",
        "            129917.04, 126992.93, 125370.37, 124266.90, 122776.86,\n",
        "            118474.03, 111313.02, 110352.25, 108733.99, 108552.04,\n",
        "            107404.34, 105733.54, 105008.31, 103282.38, 101004.64,\n",
        "            99937.59, 97483.56, 97427.84, 96778.92, 96712.80,\n",
        "            96479.51, 90708.19, 89949.14, 81229.06, 81005.76,\n",
        "            78239.91, 77798.83, 71498.49, 69758.98, 65200.33,\n",
        "            64926.08, 49490.75, 42559.73, 35673.41, 14681.40\n",
        "        ]\n",
        "\n",
        "\n",
        "    def getX(self):\n",
        "        return self.X\n",
        "\n",
        "    def getY(self):\n",
        "        return self.Y\n"
      ]
    },
    {
      "cell_type": "markdown",
      "source": [
        "Creamos la clase SLR (SIMPLE LINEAL REGRESSION) donde vamos a definir el método matemático a seguir para calcular los valores de las **betas** .\n",
        "desde la cantidad de datos contenidos en el dataset y el valor que se le asignará a N, hasta la obtencion de resultado de las sumatorias generados a partir de los calculos para obtener un resultado final, que nos de el valor de B_0 Y B_1"
      ],
      "metadata": {
        "id": "ABpiCaPlykyH"
      }
    },
    {
      "cell_type": "code",
      "source": [
        "class SLR:\n",
        "  #asignación de los valores del data set que corresponden a  R&D SPEND (X) Y PROFIT (Y).\n",
        "      def __init__(self,X,Y):  #constructor\n",
        "        self.X = X # toma el valor X del dataset y lo almacena en self.X\n",
        "        self.Y = Y\n",
        "        self.B_0 = None #inicializan los atributos sin valor, los cuales usaremos para almacenar el resultado de cada una de las betas pero como no lo tenemos por ahora nos reservamos ese valor.\n",
        "        self.B_1 = None\n",
        "\n",
        "      def toComputeB_0(self):\n",
        "        n = len(self.X) #calculamos el número de elementos de X para asignarle ese valor a N\n",
        "        sum_x = sum(self.X) #sumamos todos los elementos contenidos en X\n",
        "        sum_y = sum(self.Y)\n",
        "        sum_xy = sum(xi * yi for xi, yi in zip(self.X, self.Y)) # se multiplican los datos de X*Y (el conjunto de pares ordenados) y  luego se suman todos los resultados\n",
        "        sum_xsqua = sum(xi ** 2 for xi in self.X)#se eleva al cuadrado cada elemento contenido en X y luego se suman todos los resultados y se le asigana el valor.\n",
        "\n",
        "\n",
        "\n",
        "        self.B_1 = ((n * sum_xy) - (sum_x * sum_y)) / ((n * sum_xsqua) - ((sum_x) ** 2))#aplicamos las formulas vistas en clase para B_1 con los resultados obtenidos de las sumatorias\n",
        "        self.B_0 = (sum_y - (self.B_1 * sum_x)) / n  #aplicamos las formulas vistas en clase para B_0 con los resultados obtenidos de las sumatorias y el valor de B_1\n",
        "        return self.B_0\n",
        "\n",
        "      def toComputeB_1(self):\n",
        "        n = len(self.X)\n",
        "        sum_x = sum(self.X)\n",
        "        sum_y = sum(self.Y)\n",
        "        sum_xy = sum(xi * yi for xi, yi in zip(self.X, self.Y))\n",
        "        sum_xsqua = sum(xi ** 2 for xi in self.X)\n",
        "\n",
        "        self.B_1 = ((n * sum_xy) - (sum_x * sum_y)) / ((n * sum_xsqua) - (sum_x ** 2))#aplicamos las formulas vistas en clase para B_1 con los resultados obtenidos de las sumatorias\n",
        "        return self.B_1\n",
        "\n",
        "\n",
        "      def RegressionEquation(self):\n",
        "        #validamos que B_0 Y B_1 tengan un valor asignado\n",
        "        if self.B_0 is not None and self.B_1 is not None:\n",
        "          print(f\"La ecuación de regresión es: Y = {self.B_0:.2f} + {self.B_1:.2f} * X\") # se crea la cadena de texto con los datos de B_0 Y B_1 con la cantidad de decimales que debe mostrar print(f\"B_0: {regresion.B_0:.2f}\")\n",
        "        else:\n",
        "         print(\"no hay valores\")"
      ],
      "metadata": {
        "id": "mpXtljjR1p1z"
      },
      "execution_count": null,
      "outputs": []
    },
    {
      "cell_type": "markdown",
      "source": [
        "creamos la instancia data_set para poder acceder a los datos de la clase contenidos en las variables X y Y"
      ],
      "metadata": {
        "id": "Fe_lJQROYZve"
      }
    },
    {
      "cell_type": "code",
      "source": [
        "data_set = Dataset()\n",
        "X = data_set.getX() #obtienelos los datos de las variables que se encuentran instanciados en la clase Dataset\n",
        "Y = data_set.getY()"
      ],
      "metadata": {
        "id": "AG4Z1j9qKw5g"
      },
      "execution_count": null,
      "outputs": []
    },
    {
      "cell_type": "markdown",
      "source": [
        " vamos a crear la instancia regresion de para obtener los valores de X y Y que contiene SLR, llama a los metodos donde se calcularon las betas y regresa su valor el cual podemos ver con el print\n"
      ],
      "metadata": {
        "id": "mKnqP_QoTprO"
      }
    },
    {
      "cell_type": "code",
      "source": [
        "regresion = SLR(X, Y)\n",
        "B_0 = regresion.toComputeB_0() #obtenemos el valor de la beta y lo almacenamos aqui\n",
        "B_1 = regresion.toComputeB_1()#guardamos el valor de la beta calculado anteriormente\n",
        "print(f\"B_0: {regresion.B_0:.2f}\")\n",
        "print(f\"B_1: {B_1:.2f}\")"
      ],
      "metadata": {
        "colab": {
          "base_uri": "https://localhost:8080/"
        },
        "id": "lQSRVbpaZkVU",
        "outputId": "0862d8fb-7af7-4d38-adfc-491a899d21ff"
      },
      "execution_count": null,
      "outputs": [
        {
          "output_type": "stream",
          "name": "stdout",
          "text": [
            "B_0: 49032.90\n",
            "B_1: 0.85\n"
          ]
        }
      ]
    },
    {
      "cell_type": "markdown",
      "source": [
        "por ultimo vamos a imprimir la ecuación de regresión lineal"
      ],
      "metadata": {
        "id": "OAv8H0dgbM94"
      }
    },
    {
      "cell_type": "code",
      "source": [
        "regresion. RegressionEquation()"
      ],
      "metadata": {
        "colab": {
          "base_uri": "https://localhost:8080/"
        },
        "id": "9XoBYw-hbTNV",
        "outputId": "52e40ff6-f272-4b57-b0ba-a89358380c34"
      },
      "execution_count": null,
      "outputs": [
        {
          "output_type": "stream",
          "name": "stdout",
          "text": [
            "La ecuación de regresión es: Y = 49032.90 + 0.85 * X\n"
          ]
        }
      ]
    },
    {
      "cell_type": "markdown",
      "source": [
        "comprobamos los datos con los obtenidos en la hoja de google\n",
        "\n",
        "\n",
        " ![Captura de pantalla 2023-10-03 153709.png](data:image/png;base64,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)![Captura de pantalla 2023-10-03 153700.png](data:image/png;base64,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)"
      ],
      "metadata": {
        "id": "MIARPQySbihx"
      }
    },
    {
      "cell_type": "markdown",
      "source": [
        "vamos a darle nuevos valores  a  R&D SPEND **(X)** para predecir profit (Y)"
      ],
      "metadata": {
        "id": "AUeqTMB7fcMD"
      }
    },
    {
      "cell_type": "code",
      "source": [
        "newrd = [\n",
        "    79556.00, 67605.00, 165872.00, 7495.00, 130278.00,\n",
        "    100807.00, 42886.00, 59488.00, 32347.00, 7893.00,\n",
        "    32012.00, 100956.00, 142241.00, 117950.00, 87835.00,\n",
        "    75569.00, 109687.00, 105901.00, 157054.00, 14629.00,\n",
        "    173472.00, 45475.00, 44782.00, 116980.00, 192000.00,\n",
        "    21184.00, 25542.00, 50471.00, 151827.00, 184061.00,\n",
        "    50563.00, 170395.00, 173472.00, 2480.00, 96117.00,\n",
        "    32491.00, 167533.00, 7293.00, 22080.00, 41632.00,\n",
        "    59217.00, 159558.00, 65544.00, 121994.00, 95677.00,\n",
        "    79528.00, 181240.00, 120534.00, 178068.00, 167152.00]\n"
      ],
      "metadata": {
        "id": "-FgW40OwM5pE"
      },
      "execution_count": null,
      "outputs": []
    },
    {
      "cell_type": "markdown",
      "source": [
        "creamos la formula para predecir el profit de estos datos\n",
        "**profit= B_0 + B_1 * R&D SPEND**"
      ],
      "metadata": {
        "id": "cAwSx5yYb3HL"
      }
    },
    {
      "cell_type": "code",
      "source": [
        "profit = [B_0 + B_1 * rd for rd in newrd]\n",
        "\n",
        "for rd, nprofit in zip(newrd,profit):\n",
        "    print(f\"R&D: {rd:.2f},  Profit: {nprofit:.2f}\")"
      ],
      "metadata": {
        "colab": {
          "base_uri": "https://localhost:8080/"
        },
        "id": "iGgQ6S5ecLz7",
        "outputId": "3c394096-9bb9-4592-93f8-5292c52e5ba6"
      },
      "execution_count": null,
      "outputs": [
        {
          "output_type": "stream",
          "name": "stdout",
          "text": [
            "R&D: 79556.00,  Profit: 116996.90\n",
            "R&D: 67605.00,  Profit: 106787.27\n",
            "R&D: 165872.00,  Profit: 190735.92\n",
            "R&D: 7495.00,  Profit: 55435.81\n",
            "R&D: 130278.00,  Profit: 160328.27\n",
            "R&D: 100807.00,  Profit: 135151.45\n",
            "R&D: 42886.00,  Profit: 85670.04\n",
            "R&D: 59488.00,  Profit: 99852.98\n",
            "R&D: 32347.00,  Profit: 76666.66\n",
            "R&D: 7893.00,  Profit: 55775.82\n",
            "R&D: 32012.00,  Profit: 76380.47\n",
            "R&D: 100956.00,  Profit: 135278.74\n",
            "R&D: 142241.00,  Profit: 170548.16\n",
            "R&D: 117950.00,  Profit: 149796.57\n",
            "R&D: 87835.00,  Profit: 124069.58\n",
            "R&D: 75569.00,  Profit: 113590.84\n",
            "R&D: 109687.00,  Profit: 142737.56\n",
            "R&D: 105901.00,  Profit: 139503.21\n",
            "R&D: 157054.00,  Profit: 183202.78\n",
            "R&D: 14629.00,  Profit: 61530.33\n",
            "R&D: 173472.00,  Profit: 197228.53\n",
            "R&D: 45475.00,  Profit: 87881.80\n",
            "R&D: 44782.00,  Profit: 87289.78\n",
            "R&D: 116980.00,  Profit: 148967.90\n",
            "R&D: 192000.00,  Profit: 213056.84\n",
            "R&D: 21184.00,  Profit: 67130.21\n",
            "R&D: 25542.00,  Profit: 70853.21\n",
            "R&D: 50471.00,  Profit: 92149.84\n",
            "R&D: 151827.00,  Profit: 178737.40\n",
            "R&D: 184061.00,  Profit: 206274.62\n",
            "R&D: 50563.00,  Profit: 92228.43\n",
            "R&D: 170395.00,  Profit: 194599.88\n",
            "R&D: 173472.00,  Profit: 197228.53\n",
            "R&D: 2480.00,  Profit: 51151.54\n",
            "R&D: 96117.00,  Profit: 131144.82\n",
            "R&D: 32491.00,  Profit: 76789.68\n",
            "R&D: 167533.00,  Profit: 192154.90\n",
            "R&D: 7293.00,  Profit: 55263.25\n",
            "R&D: 22080.00,  Profit: 67895.65\n",
            "R&D: 41632.00,  Profit: 84598.76\n",
            "R&D: 59217.00,  Profit: 99621.47\n",
            "R&D: 159558.00,  Profit: 185341.92\n",
            "R&D: 65544.00,  Profit: 105026.57\n",
            "R&D: 121994.00,  Profit: 153251.32\n",
            "R&D: 95677.00,  Profit: 130768.93\n",
            "R&D: 79528.00,  Profit: 116972.98\n",
            "R&D: 181240.00,  Profit: 203864.67\n",
            "R&D: 120534.00,  Profit: 152004.06\n",
            "R&D: 178068.00,  Profit: 201154.85\n",
            "R&D: 167152.00,  Profit: 191829.41\n"
          ]
        }
      ]
    },
    {
      "cell_type": "markdown",
      "source": [
        "Comprobamos con el primer dato que se obtuvo en la hoja de calculo para ver que coincida\n",
        "\n",
        "![image.png](data:image/png;base64,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)"
      ],
      "metadata": {
        "id": "KacD-snsr2ko"
      }
    },
    {
      "cell_type": "markdown",
      "source": [
        "\n",
        "\n",
        "\n",
        "$y=x^2$\n",
        "\n",
        "$e^{i\\pi} + 1 = 0$\n",
        "\n",
        "$e^x=\\sum_{i=0}^\\infty \\frac{1}{i!}x^i$\n",
        "\n",
        "$\\frac{n!}{k!(n-k)!} = {n \\choose k}$\n",
        "\n",
        "$A_{m,n} =\n",
        " \\begin{pmatrix}\n",
        "  a_{1,1} & a_{1,2} & \\cdots & a_{1,n} \\\\\n",
        "  a_{2,1} & a_{2,2} & \\cdots & a_{2,n} \\\\\n",
        "  \\vdots  & \\vdots  & \\ddots & \\vdots  \\\\\n",
        "  a_{m,1} & a_{m,2} & \\cdots & a_{m,n}\n",
        " \\end{pmatrix}$\n",
        "```\n",
        "\n",
        "$y=x^2$\n",
        "\n",
        "$e^{i\\pi} + 1 = 0$\n",
        "\n",
        "$e^x=\\sum_{i=0}^\\infty \\frac{1}{i!}x^i$\n",
        "\n",
        "$\\frac{n!}{k!(n-k)!} = {n \\choose k}$\n",
        "\n",
        "$A_{m,n} =\n",
        " \\begin{pmatrix}\n",
        "  a_{1,1} & a_{1,2} & \\cdots & a_{1,n} \\\\\n",
        "  a_{2,1} & a_{2,2} & \\cdots & a_{2,n} \\\\\n",
        "  \\vdots  & \\vdots  & \\ddots & \\vdots  \\\\\n",
        "  a_{m,1} & a_{m,2} & \\cdots & a_{m,n}\n",
        " \\end{pmatrix}$\n",
        "\n",
        "\n",
        " ---"
      ],
      "metadata": {
        "id": "op3sXW7gi85i"
      }
    }
  ]
}